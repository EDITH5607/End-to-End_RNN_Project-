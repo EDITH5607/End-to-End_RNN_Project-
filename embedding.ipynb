{
 "cells": [
  {
   "cell_type": "code",
   "execution_count": 2,
   "id": "7e9d683c",
   "metadata": {},
   "outputs": [],
   "source": [
    "from tensorflow.keras.preprocessing.text import one_hot"
   ]
  },
  {
   "cell_type": "code",
   "execution_count": 3,
   "id": "b6d3b81e",
   "metadata": {},
   "outputs": [],
   "source": [
    "sent = ['the glass of milk',\n",
    "        'the glass of juice,'\n",
    "        'the cup of tea',\n",
    "        'I am a good boy',\n",
    "        'I am a good developer',\n",
    "        'understand the meaning of words',\n",
    "        'your vidos are good']"
   ]
  },
  {
   "cell_type": "code",
   "execution_count": 6,
   "id": "13aaadab",
   "metadata": {},
   "outputs": [],
   "source": [
    "#Define the vocabulary size \n",
    "voc_size = 10000"
   ]
  },
  {
   "cell_type": "code",
   "execution_count": 8,
   "id": "57700094",
   "metadata": {},
   "outputs": [
    {
     "data": {
      "text/plain": [
       "[[7459, 5323, 788, 4573],\n",
       " [7459, 5323, 788, 1650, 7459, 5860, 788, 2317],\n",
       " [1001, 6433, 4094, 7341, 8758],\n",
       " [1001, 6433, 4094, 7341, 9175],\n",
       " [7476, 7459, 3609, 788, 2308],\n",
       " [8210, 3501, 3047, 7341]]"
      ]
     },
     "execution_count": 8,
     "metadata": {},
     "output_type": "execute_result"
    }
   ],
   "source": [
    "## One-hot Encoding representation\n",
    "one_hot_repre = [one_hot(word,voc_size) for word in sent]\n",
    "one_hot_repre"
   ]
  },
  {
   "cell_type": "code",
   "execution_count": null,
   "id": "d48ed558",
   "metadata": {},
   "outputs": [],
   "source": [
    "## here 7459 is the index where it is zero others are zeros(only that index is one)"
   ]
  }
 ],
 "metadata": {
  "kernelspec": {
   "display_name": "venv",
   "language": "python",
   "name": "python3"
  },
  "language_info": {
   "codemirror_mode": {
    "name": "ipython",
    "version": 3
   },
   "file_extension": ".py",
   "mimetype": "text/x-python",
   "name": "python",
   "nbconvert_exporter": "python",
   "pygments_lexer": "ipython3",
   "version": "3.11.7"
  }
 },
 "nbformat": 4,
 "nbformat_minor": 5
}
