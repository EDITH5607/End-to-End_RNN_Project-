{
 "cells": [
  {
   "cell_type": "code",
   "execution_count": 2,
   "id": "fd11fe7a",
   "metadata": {},
   "outputs": [],
   "source": [
    "from tensorflow.keras.preprocessing.text import one_hot"
   ]
  },
  {
   "cell_type": "code",
   "execution_count": 3,
   "id": "4381dcca",
   "metadata": {},
   "outputs": [],
   "source": [
    "## Sentence \n",
    "sentence=['the glass of milk', 'the glass of juice ', 'the cup of tea', 'I am a good boy', 'understand the meaning of words','your videos are good']"
   ]
  },
  {
   "cell_type": "code",
   "execution_count": 4,
   "id": "9852b3ee",
   "metadata": {},
   "outputs": [
    {
     "data": {
      "text/plain": [
       "['the glass of milk',\n",
       " 'the glass of juice ',\n",
       " 'the cup of tea',\n",
       " 'I am a good boy',\n",
       " 'understand the meaning of words',\n",
       " 'your videos are good']"
      ]
     },
     "execution_count": 4,
     "metadata": {},
     "output_type": "execute_result"
    }
   ],
   "source": [
    "sentence"
   ]
  },
  {
   "cell_type": "code",
   "execution_count": 5,
   "id": "e4cc4154",
   "metadata": {},
   "outputs": [],
   "source": [
    "##  Define the vocabulary size \n",
    "voc_size =10000"
   ]
  },
  {
   "cell_type": "code",
   "execution_count": null,
   "id": "03bc7cc0",
   "metadata": {},
   "outputs": [],
   "source": [
    "## One-hot Representation\n"
   ]
  }
 ],
 "metadata": {
  "kernelspec": {
   "display_name": "venv",
   "language": "python",
   "name": "python3"
  },
  "language_info": {
   "codemirror_mode": {
    "name": "ipython",
    "version": 3
   },
   "file_extension": ".py",
   "mimetype": "text/x-python",
   "name": "python",
   "nbconvert_exporter": "python",
   "pygments_lexer": "ipython3",
   "version": "3.12.3"
  }
 },
 "nbformat": 4,
 "nbformat_minor": 5
}
